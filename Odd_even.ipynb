{
 "cells": [
  {
   "cell_type": "code",
   "execution_count": null,
   "metadata": {},
   "outputs": [],
   "source": [
    "odd = 0 \n",
    "for num in range (1,101,2):\n",
    "    #print(\"{0}\".format(num))\n",
    "    odd = odd + num\n",
    "print('Sum of odd number:', odd)\n",
    "print(\"The Sum of Odd Numbers from 1 to {0} = {1}\".format(num,odd))"
   ]
  },
  {
   "cell_type": "code",
   "execution_count": null,
   "metadata": {},
   "outputs": [],
   "source": [
    "maximum = int(input(\" Please Enter the Maximum Value : \"))\n",
    "Oddtotal = 0\n",
    "\n",
    "for number in range(1, maximum+1, 2):\n",
    "    print(\"{0}\".format(number))\n",
    "    Oddtotal = ((Oddtotal + number))\n",
    "#print(Oddtotal)\n",
    "print(\"The Sum of Odd Numbers from 1 to {0} = {1}\".format(number, Oddtotal))"
   ]
  },
  {
   "cell_type": "code",
   "execution_count": null,
   "metadata": {},
   "outputs": [],
   "source": [
    "maximum = int(input(\" Please Enter the Maximum Value : \"))\n",
    "eventotal = 0\n",
    "\n",
    "for number in range(2, maximum,2):\n",
    "    print(\"{0}\".format(number))\n",
    "    eventotal = eventotal + number\n",
    "\n",
    "print(\"The Sum of Odd Numbers from 1 to {0} = {1}\".format(number, eventotal))"
   ]
  },
  {
   "cell_type": "code",
   "execution_count": null,
   "metadata": {},
   "outputs": [],
   "source": [
    "maximum = int(input(\" Please Enter the Maximum Value : \"))\n",
    "odd = 0\n",
    "numb = 1\n",
    "\n",
    "while numb <= maximum:\n",
    "    if(numb % 2 != 0):\n",
    "        print(\"{0}\".format(numb))\n",
    "        odd = odd + numb\n",
    "    numb = numb + 1\n",
    "    print(\"The sum of odd num 1 to {0} = {1}\".format(maximum, odd))"
   ]
  },
  {
   "cell_type": "code",
   "execution_count": null,
   "metadata": {},
   "outputs": [],
   "source": [
    "maximum = int(input(\" Please Enter the Maximum Value : \"))\n",
    "eventotal = 0\n",
    "\n",
    "for number in range(2, maximum,2):\n",
    "    print(\"{0}\".format(number))\n",
    "    eventotal = eventotal + number\n",
    "\n",
    "print(\"The Sum of Odd Numbers from 1 to {0} = {1}\".format(number, eventotal))"
   ]
  }
 ],
 "metadata": {
  "interpreter": {
   "hash": "39d388ca1b04e1a174574da37708eb359a2bcdc8ec40a682dcfb85d2b414fb91"
  },
  "kernelspec": {
   "display_name": "Python 3.9.7 ('p1')",
   "language": "python",
   "name": "python3"
  },
  "language_info": {
   "codemirror_mode": {
    "name": "ipython",
    "version": 3
   },
   "file_extension": ".py",
   "mimetype": "text/x-python",
   "name": "python",
   "nbconvert_exporter": "python",
   "pygments_lexer": "ipython3",
   "version": "3.9.7"
  },
  "orig_nbformat": 4
 },
 "nbformat": 4,
 "nbformat_minor": 2
}
