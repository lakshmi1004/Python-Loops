{
 "cells": [
  {
   "cell_type": "code",
   "execution_count": null,
   "metadata": {},
   "outputs": [],
   "source": [
    "mini = int(input('Enter the minimum number:'))\n",
    "maxi = int(input('Enter the maximum number:'))\n",
    "\n",
    "for i in range(mini, maxi+1):\n",
    "    prime = True\n",
    "    for j in range(2,i):\n",
    "        if (i % j) == 0 :\n",
    "          prime = False\n",
    "          break\n",
    "    if prime == True:\n",
    "        print(i ,'is a prime number')\n",
    "    else:\n",
    "        print (i,'is not prime number because ',j ,'is afactor of ',i)"
   ]
  }
 ],
 "metadata": {
  "interpreter": {
   "hash": "39d388ca1b04e1a174574da37708eb359a2bcdc8ec40a682dcfb85d2b414fb91"
  },
  "kernelspec": {
   "display_name": "Python 3.9.7 ('p1')",
   "language": "python",
   "name": "python3"
  },
  "language_info": {
   "codemirror_mode": {
    "name": "ipython",
    "version": 3
   },
   "file_extension": ".py",
   "mimetype": "text/x-python",
   "name": "python",
   "nbconvert_exporter": "python",
   "pygments_lexer": "ipython3",
   "version": "3.9.7"
  },
  "orig_nbformat": 4
 },
 "nbformat": 4,
 "nbformat_minor": 2
}
