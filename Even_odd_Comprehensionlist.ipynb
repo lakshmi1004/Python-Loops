{
 "cells": [
  {
   "cell_type": "code",
   "execution_count": null,
   "metadata": {},
   "outputs": [],
   "source": [
    "\n",
    "#maximum = int(input(\" Please Enter the Maximum Value : \"))\n",
    "my_list = [34, 52, 71, 39, 22, 73, 92]\n",
    "\n",
    "squares  = [(number +1)**2 for number in my_list]\n",
    "print(squares)\n",
    "\n",
    "#evensquares  = [number**2 for number in range(2, maximum+2, 2)]\n",
    "#print(evensquares)\n",
    "\n"
   ]
  }
 ],
 "metadata": {
  "language_info": {
   "name": "python"
  },
  "orig_nbformat": 4
 },
 "nbformat": 4,
 "nbformat_minor": 2
}
