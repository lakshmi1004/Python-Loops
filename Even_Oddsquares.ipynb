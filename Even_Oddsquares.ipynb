{
 "cells": [
  {
   "cell_type": "code",
   "execution_count": null,
   "metadata": {},
   "outputs": [],
   "source": [
    "maximum = int(input(\" Please Enter the Maximum Value : \"))\n",
    "my_list = [34, 52, 71, 39, 22, 73, 92]\n",
    "\n",
    "oddsquares  = [number**2 for number in range(1, maximum+1, 2)]\n",
    "print(oddsquares)\n",
    "\n",
    "evensquares  = [number**2 for number in range(2, maximum+2, 2)]\n",
    "print(evensquares)\n"
   ]
  },
  {
   "cell_type": "code",
   "execution_count": null,
   "metadata": {},
   "outputs": [],
   "source": [
    "oddsquares  = []\n",
    "number = 0\n",
    "for number in range(1, maximum+1, 2):\n",
    "    oddsquares.append(number**2)\n",
    "print(oddsquares)"
   ]
  },
  {
   "cell_type": "code",
   "execution_count": null,
   "metadata": {},
   "outputs": [],
   "source": [
    "maximum = int(input(\" Please Enter the Maximum Value : \"))\n",
    "#Oddtotal = 0\n",
    "number = 0\n",
    "for number in range(1, maximum+1, 2):\n",
    "    #print(\"{0}\".format(number))\n",
    "    y = print((number)**2)\n",
    "    #oddsquares = (y)**2\n",
    "#print(y)\n",
    "#print(\"The squares Odd Numbers from 1 to {0} = {1}\".format(number, oddsquares))"
   ]
  }
 ],
 "metadata": {
  "language_info": {
   "name": "python"
  },
  "orig_nbformat": 4
 },
 "nbformat": 4,
 "nbformat_minor": 2
}
